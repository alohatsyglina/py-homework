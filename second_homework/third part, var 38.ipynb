{
 "cells": [
  {
   "cell_type": "markdown",
   "metadata": {},
   "source": [
    "### Вариант 38 "
   ]
  },
  {
   "cell_type": "code",
   "execution_count": 31,
   "metadata": {},
   "outputs": [
    {
     "data": {
      "text/html": [
       "<div>\n",
       "<style scoped>\n",
       "    .dataframe tbody tr th:only-of-type {\n",
       "        vertical-align: middle;\n",
       "    }\n",
       "\n",
       "    .dataframe tbody tr th {\n",
       "        vertical-align: top;\n",
       "    }\n",
       "\n",
       "    .dataframe thead th {\n",
       "        text-align: right;\n",
       "    }\n",
       "</style>\n",
       "<table border=\"1\" class=\"dataframe\">\n",
       "  <thead>\n",
       "    <tr style=\"text-align: right;\">\n",
       "      <th></th>\n",
       "      <th>bsdkn</th>\n",
       "      <th>jocnp</th>\n",
       "      <th>bcmnt</th>\n",
       "    </tr>\n",
       "  </thead>\n",
       "  <tbody>\n",
       "    <tr>\n",
       "      <th>0</th>\n",
       "      <td>16.320109</td>\n",
       "      <td>-0.660315</td>\n",
       "      <td>22.589342</td>\n",
       "    </tr>\n",
       "    <tr>\n",
       "      <th>1</th>\n",
       "      <td>4.249890</td>\n",
       "      <td>16.838257</td>\n",
       "      <td>18.238570</td>\n",
       "    </tr>\n",
       "    <tr>\n",
       "      <th>2</th>\n",
       "      <td>15.931039</td>\n",
       "      <td>9.876357</td>\n",
       "      <td>9.670554</td>\n",
       "    </tr>\n",
       "    <tr>\n",
       "      <th>3</th>\n",
       "      <td>13.810871</td>\n",
       "      <td>16.788477</td>\n",
       "      <td>32.018727</td>\n",
       "    </tr>\n",
       "    <tr>\n",
       "      <th>4</th>\n",
       "      <td>13.618687</td>\n",
       "      <td>14.785894</td>\n",
       "      <td>9.618909</td>\n",
       "    </tr>\n",
       "  </tbody>\n",
       "</table>\n",
       "</div>"
      ],
      "text/plain": [
       "       bsdkn      jocnp      bcmnt\n",
       "0  16.320109  -0.660315  22.589342\n",
       "1   4.249890  16.838257  18.238570\n",
       "2  15.931039   9.876357   9.670554\n",
       "3  13.810871  16.788477  32.018727\n",
       "4  13.618687  14.785894   9.618909"
      ]
     },
     "execution_count": 31,
     "metadata": {},
     "output_type": "execute_result"
    }
   ],
   "source": [
    "import numpy as np\n",
    "import pandas as pd\n",
    "import matplotlib.pyplot as plt\n",
    "import seaborn as sns\n",
    "\n",
    "data = pd.read_csv('var38.csv', index_col=[0])\n",
    "\n",
    "data.head()"
   ]
  },
  {
   "cell_type": "markdown",
   "metadata": {},
   "source": [
    "##### Найти среднее и дисперсию каждого столбца"
   ]
  },
  {
   "cell_type": "code",
   "execution_count": 32,
   "metadata": {},
   "outputs": [
    {
     "name": "stdout",
     "output_type": "stream",
     "text": [
      "Среднее:\n",
      " bsdkn    10.486120\n",
      "jocnp    14.804018\n",
      "bcmnt    17.600850\n",
      "dtype: float64\n"
     ]
    }
   ],
   "source": [
    "print('Среднее:\\n', data.mean())"
   ]
  },
  {
   "cell_type": "code",
   "execution_count": 33,
   "metadata": {},
   "outputs": [
    {
     "name": "stdout",
     "output_type": "stream",
     "text": [
      "Дисперсия\n",
      " bsdkn    18.147348\n",
      "jocnp    21.721062\n",
      "bcmnt    21.763582\n",
      "dtype: float64\n"
     ]
    }
   ],
   "source": [
    "print('Дисперсия\\n', data.std())"
   ]
  },
  {
   "cell_type": "markdown",
   "metadata": {},
   "source": [
    "##### Визуализировать датасет любым удобным способом. Можно несколькими графиками"
   ]
  },
  {
   "cell_type": "code",
   "execution_count": 97,
   "metadata": {},
   "outputs": [
    {
     "data": {
      "image/png": "[encoded data removed]",
      "text/plain": [
       "<Figure size 432x288 with 1 Axes>"
      ]
     },
     "metadata": {
      "needs_background": "light"
     },
     "output_type": "display_data"
    }
   ],
   "source": [
    "data['bsdkn'].hist(color=\"red\", label='bsdkn')\n",
    "data['jocnp'].hist(color=\"orange\", label='jocnp')\n",
    "data['bcmnt'].hist(color=\"yellow\", label='bcmnt')\n",
    "\n",
    "plt.title('jjwye, qrgto and rpnmo ')\n",
    "plt.xlabel('Column')\n",
    "plt.ylabel('Value')\n",
    "plt.legend(loc='upper right');"
   ]
  },
  {
   "cell_type": "markdown",
   "metadata": {},
   "source": [
    "##### Построить графики для каждой пары признаков в наборе данных"
   ]
  },
  {
   "cell_type": "code",
   "execution_count": 35,
   "metadata": {},
   "outputs": [
    {
     "data": {
      "image/png": "[encoded data removed]",
      "text/plain": [
       "<Figure size 432x288 with 1 Axes>"
      ]
     },
     "metadata": {
      "needs_background": "light"
     },
     "output_type": "display_data"
    }
   ],
   "source": [
    "def first_pair():\n",
    "    data['bsdkn'].hist(color=\"red\", label='bsdkn')\n",
    "    data['jocnp'].hist(color=\"orange\", label='jocnp')\n",
    "    plt.legend(loc='upper right')\n",
    "\n",
    "first_pair()"
   ]
  },
  {
   "cell_type": "code",
   "execution_count": 36,
   "metadata": {},
   "outputs": [
    {
     "data": {
      "image/png": "[encoded data removed]",
      "text/plain": [
       "<Figure size 432x288 with 1 Axes>"
      ]
     },
     "metadata": {
      "needs_background": "light"
     },
     "output_type": "display_data"
    }
   ],
   "source": [
    "def second_pair():\n",
    "    data['jocnp'].hist(color=\"orange\", label='jocnp')\n",
    "    data['bcmnt'].hist(color=\"yellow\", label='bcmnt')\n",
    "    plt.legend(loc='upper right')\n",
    "\n",
    "second_pair()"
   ]
  },
  {
   "cell_type": "code",
   "execution_count": 37,
   "metadata": {},
   "outputs": [
    {
     "data": {
      "image/png": "[encoded data removed]",
      "text/plain": [
       "<Figure size 432x288 with 1 Axes>"
      ]
     },
     "metadata": {
      "needs_background": "light"
     },
     "output_type": "display_data"
    }
   ],
   "source": [
    "def third_pair():\n",
    "    data['bsdkn'].hist(color=\"red\", label='bsdkn')\n",
    "    data['bcmnt'].hist(color=\"yellow\", label='bcmnt')\n",
    "    plt.legend(loc='upper right')\n",
    "    \n",
    "third_pair()"
   ]
  },
  {
   "cell_type": "markdown",
   "metadata": {},
   "source": [
    "##### Построить гистограмму каждого из признаков"
   ]
  },
  {
   "cell_type": "code",
   "execution_count": 46,
   "metadata": {},
   "outputs": [
    {
     "data": {
      "image/png": "[encoded data removed]",
      "text/plain": [
       "<Figure size 432x288 with 1 Axes>"
      ]
     },
     "metadata": {
      "needs_background": "light"
     },
     "output_type": "display_data"
    }
   ],
   "source": [
    "bsdkn_plot = sns.distplot(data['bsdkn'], color = 'red')"
   ]
  },
  {
   "cell_type": "code",
   "execution_count": 51,
   "metadata": {},
   "outputs": [
    {
     "data": {
      "image/png": "[encoded data removed]",
      "text/plain": [
       "<Figure size 432x288 with 1 Axes>"
      ]
     },
     "metadata": {
      "needs_background": "light"
     },
     "output_type": "display_data"
    }
   ],
   "source": [
    "jocnp_plot = sns.distplot(data['jocnp'], color = 'orange')"
   ]
  },
  {
   "cell_type": "code",
   "execution_count": 48,
   "metadata": {},
   "outputs": [
    {
     "data": {
      "image/png": "[encoded data removed]",
      "text/plain": [
       "<Figure size 432x288 with 1 Axes>"
      ]
     },
     "metadata": {
      "needs_background": "light"
     },
     "output_type": "display_data"
    }
   ],
   "source": [
    "bcmnt_plot = sns.distplot(data['bcmnt'], color = 'yellow')"
   ]
  },
  {
   "cell_type": "markdown",
   "metadata": {},
   "source": [
    "##### Найти выбросы. Удалить их #####\n",
    "\n",
    "удалить всю строку данных из выборки\n"
   ]
  },
  {
   "cell_type": "markdown",
   "metadata": {},
   "source": [
    "Поиск в гугле по поводу выбросов дал такую информацию: В статистике, если распределение данных приблизительно нормальное, то около 68% значений данных находятся в пределах одного стандартного отклонения от среднего, а около 95% находятся в пределах двух стандартных отклонений, иоколо 99,7% лежат в пределах трех стандартных отклонений.\n",
    "Этим и воспользуемся: для каждого столбца найдем врехнюю и нижнюю границы, и удалим строки, в которых встречаются значения, выходящие за эти границы."
   ]
  },
  {
   "cell_type": "code",
   "execution_count": 102,
   "metadata": {},
   "outputs": [],
   "source": [
    "new_data = data.copy()\n",
    "\n",
    "for col in new_data.columns:\n",
    "    data_std = new_data[col].std()\n",
    "    data_mean = new_data[col].mean()\n",
    "    cut_off = data_std * 3\n",
    "    lower_border = data_mean - cut_off\n",
    "    upper_border = data_mean + cut_off\n",
    "    col_data = new_data[col]\n",
    "    new_data = new_data.drop(new_data[new_data[col] < lower_border].index)\n",
    "    new_data = new_data.drop(new_data[new_data[col] > upper_border].index)"
   ]
  },
  {
   "cell_type": "markdown",
   "metadata": {},
   "source": [
    "Графики с выбросами и без, для сравнения"
   ]
  },
  {
   "cell_type": "code",
   "execution_count": 106,
   "metadata": {},
   "outputs": [
    {
     "data": {
      "image/png": "[encoded data removed]",
      "text/plain": [
       "<Figure size 432x288 with 1 Axes>"
      ]
     },
     "metadata": {
      "needs_background": "light"
     },
     "output_type": "display_data"
    }
   ],
   "source": [
    "data['bsdkn'].hist(color=\"red\", label='bsdkn')\n",
    "data['jocnp'].hist(color=\"orange\", label='jocnp')\n",
    "data['bcmnt'].hist(color=\"yellow\", label='bcmnt')\n",
    "plt.title('old data');"
   ]
  },
  {
   "cell_type": "code",
   "execution_count": 107,
   "metadata": {},
   "outputs": [
    {
     "data": {
      "image/png": "[encoded data removed]",
      "text/plain": [
       "<Figure size 432x288 with 1 Axes>"
      ]
     },
     "metadata": {
      "needs_background": "light"
     },
     "output_type": "display_data"
    }
   ],
   "source": [
    "new_data['bsdkn'].hist(color=\"red\", label='jjwye')\n",
    "new_data['jocnp'].hist(color=\"orange\", label='qrgto')\n",
    "new_data['bcmnt'].hist(color=\"yellow\", label='rpnmo')\n",
    "plt.title('new data');"
   ]
  },
  {
   "cell_type": "markdown",
   "metadata": {},
   "source": [
    "##### Найти новые средние и дисперсии, сравнить со старыми"
   ]
  },
  {
   "cell_type": "code",
   "execution_count": 113,
   "metadata": {},
   "outputs": [
    {
     "name": "stdout",
     "output_type": "stream",
     "text": [
      "Старые значения:\n",
      "Среднее:\n",
      " bsdkn    10.486120\n",
      "jocnp    14.804018\n",
      "bcmnt    17.600850\n",
      "dtype: float64\n",
      "\n",
      "Дисперсия:\n",
      " bsdkn    18.147348\n",
      "jocnp    21.721062\n",
      "bcmnt    21.763582\n",
      "dtype: float64\n"
     ]
    }
   ],
   "source": [
    "print('Старые значения:')\n",
    "print('Среднее:\\n', data.mean())\n",
    "print('\\nДисперсия:\\n', data.std())"
   ]
  },
  {
   "cell_type": "code",
   "execution_count": 114,
   "metadata": {},
   "outputs": [
    {
     "name": "stdout",
     "output_type": "stream",
     "text": [
      "Новые значения:\n",
      "Среднее:\n",
      " bsdkn    12.220002\n",
      "jocnp    14.745829\n",
      "bcmnt    14.751529\n",
      "dtype: float64\n",
      "\n",
      "Дисперсия:\n",
      " bsdkn    5.543152\n",
      "jocnp    6.241492\n",
      "bcmnt    5.835923\n",
      "dtype: float64\n"
     ]
    }
   ],
   "source": [
    "print('Новые значения:')\n",
    "print('Среднее:\\n', new_data.mean())\n",
    "print('\\nДисперсия:\\n', new_data.std())"
   ]
  },
  {
   "cell_type": "markdown",
   "metadata": {},
   "source": [
    "##### Нормализовать данные по среднему и дисперсии"
   ]
  },
  {
   "cell_type": "code",
   "execution_count": 115,
   "metadata": {},
   "outputs": [
    {
     "data": {
      "text/html": [
       "<div>\n",
       "<style scoped>\n",
       "    .dataframe tbody tr th:only-of-type {\n",
       "        vertical-align: middle;\n",
       "    }\n",
       "\n",
       "    .dataframe tbody tr th {\n",
       "        vertical-align: top;\n",
       "    }\n",
       "\n",
       "    .dataframe thead th {\n",
       "        text-align: right;\n",
       "    }\n",
       "</style>\n",
       "<table border=\"1\" class=\"dataframe\">\n",
       "  <thead>\n",
       "    <tr style=\"text-align: right;\">\n",
       "      <th></th>\n",
       "      <th>bsdkn</th>\n",
       "      <th>jocnp</th>\n",
       "      <th>bcmnt</th>\n",
       "    </tr>\n",
       "  </thead>\n",
       "  <tbody>\n",
       "    <tr>\n",
       "      <th>0</th>\n",
       "      <td>-0.063613</td>\n",
       "      <td>-0.833821</td>\n",
       "      <td>0.220750</td>\n",
       "    </tr>\n",
       "    <tr>\n",
       "      <th>1</th>\n",
       "      <td>-0.611101</td>\n",
       "      <td>-0.040111</td>\n",
       "      <td>0.023405</td>\n",
       "    </tr>\n",
       "    <tr>\n",
       "      <th>2</th>\n",
       "      <td>-0.081261</td>\n",
       "      <td>-0.355893</td>\n",
       "      <td>-0.365227</td>\n",
       "    </tr>\n",
       "    <tr>\n",
       "      <th>3</th>\n",
       "      <td>-0.177429</td>\n",
       "      <td>-0.042369</td>\n",
       "      <td>0.648453</td>\n",
       "    </tr>\n",
       "    <tr>\n",
       "      <th>4</th>\n",
       "      <td>-0.186146</td>\n",
       "      <td>-0.133203</td>\n",
       "      <td>-0.367570</td>\n",
       "    </tr>\n",
       "  </tbody>\n",
       "</table>\n",
       "</div>"
      ],
      "text/plain": [
       "      bsdkn     jocnp     bcmnt\n",
       "0 -0.063613 -0.833821  0.220750\n",
       "1 -0.611101 -0.040111  0.023405\n",
       "2 -0.081261 -0.355893 -0.365227\n",
       "3 -0.177429 -0.042369  0.648453\n",
       "4 -0.186146 -0.133203 -0.367570"
      ]
     },
     "execution_count": 115,
     "metadata": {},
     "output_type": "execute_result"
    }
   ],
   "source": [
    "normalized_data = data.copy()\n",
    "\n",
    "normalized_data = (data-data_mean) / data_std\n",
    "\n",
    "normalized_data.head()"
   ]
  }
 ],
 "metadata": {
  "kernelspec": {
   "display_name": "Python 3",
   "language": "python",
   "name": "python3"
  },
  "language_info": {
   "codemirror_mode": {
    "name": "ipython",
    "version": 3
   },
   "file_extension": ".py",
   "mimetype": "text/x-python",
   "name": "python",
   "nbconvert_exporter": "python",
   "pygments_lexer": "ipython3",
   "version": "3.8.3"
  }
 },
 "nbformat": 4,
 "nbformat_minor": 4
}
